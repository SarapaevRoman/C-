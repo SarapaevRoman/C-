{
  "nbformat": 4,
  "nbformat_minor": 0,
  "metadata": {
    "colab": {
      "provenance": [],
      "name": "dz lesson 15 .ipynb",
      "authorship_tag": "ABX9TyMna8wDopB733kAgiAmO+1q",
      "include_colab_link": true
    },
    "kernelspec": {
      "name": "python3",
      "display_name": "Python 3"
    },
    "language_info": {
      "name": "python"
    }
  },
  "cells": [
    {
      "cell_type": "markdown",
      "metadata": {
        "id": "view-in-github",
        "colab_type": "text"
      },
      "source": [
        "<a href=\"https://colab.research.google.com/github/SarapaevRoman/C-/blob/main/dz_lesson_15_.ipynb\" target=\"_parent\"><img src=\"https://colab.research.google.com/assets/colab-badge.svg\" alt=\"Open In Colab\"/></a>"
      ]
    },
    {
      "cell_type": "code",
      "execution_count": null,
      "metadata": {
        "colab": {
          "base_uri": "https://localhost:8080/"
        },
        "id": "-nKmv-_h0nqV",
        "outputId": "498f13c1-8dfc-4bda-e864-d610a4e57bb0"
      },
      "outputs": [
        {
          "output_type": "stream",
          "name": "stdout",
          "text": [
            "  whoAmI\n",
            "0  robot\n",
            "1  robot\n",
            "2  human\n",
            "3  robot\n",
            "4  human\n",
            "   robot  human\n",
            "0      1      0\n",
            "1      1      0\n",
            "2      0      1\n",
            "3      1      0\n",
            "4      0      1\n"
          ]
        }
      ],
      "source": [
        "import pandas as pd\n",
        "import random\n",
        "\n",
        "lst = ['robot'] * 10\n",
        "lst += ['human'] * 10\n",
        "random.shuffle(lst)\n",
        "data = pd.DataFrame({'whoAmI': lst})\n",
        "print(data.head())\n",
        "\n",
        "unique_values = data['whoAmI'].unique()\n",
        "\n",
        "for value in unique_values:\n",
        "  tf_value = data['whoAmI'] == value\n",
        "\n",
        "  res_value_int = tf_value.astype(int)\n",
        "  data[value] = res_value_int\n",
        "\n",
        "data.drop(columns=['whoAmI'], inplace=True)\n",
        "\n",
        "print(data.head())"
      ]
    }
  ]
}